{
 "cells": [
  {
   "cell_type": "markdown",
   "metadata": {},
   "source": [
    "# commongen dataset processing"
   ]
  },
  {
   "cell_type": "code",
   "execution_count": null,
   "metadata": {},
   "outputs": [],
   "source": [
    "from datasets import load_dataset\n",
    "import re, json\n",
    "from transformers import AutoTokenizer\n"
   ]
  },
  {
   "cell_type": "code",
   "execution_count": null,
   "metadata": {},
   "outputs": [],
   "source": [
    "commongen = load_dataset(\"common_gen\")\n",
    "t = AutoTokenizer.from_pretrained(\"meta-llama/Llama-2-70b-chat-hf\")\n"
   ]
  },
  {
   "cell_type": "code",
   "execution_count": null,
   "metadata": {},
   "outputs": [],
   "source": [
    "df = commongen[\"validation\"].to_pandas()\n",
    "concepts = df.groupby(\"concept_set_idx\")[\"concepts\"].first().reset_index()\n",
    "targets = df.groupby(\"concept_set_idx\")[\"target\"].apply(list)\n",
    "processed = concepts.merge(targets, on=\"concept_set_idx\")"
   ]
  },
  {
   "cell_type": "code",
   "execution_count": null,
   "metadata": {},
   "outputs": [],
   "source": [
    "processed[\"prompt\"] = processed[\"concepts\"].map(\n",
    "    lambda l: [{\n",
    "                    \"role\": \"user\",\n",
    "                    \"content\": \"Write a sentence describing an everyday scenario using a set of keywords. Do not produce any text that's not part of the sentence.\\nKeywords: \" + ', '.join(l) + '\\n',\n",
    "            }]\n",
    ")"
   ]
  },
  {
   "cell_type": "code",
   "execution_count": null,
   "metadata": {},
   "outputs": [],
   "source": [
    "processed.to_json(\"../data/commongen.jsonl\", lines=True, orient=\"records\")"
   ]
  },
  {
   "cell_type": "code",
   "execution_count": null,
   "metadata": {},
   "outputs": [],
   "source": [
    "processed"
   ]
  },
  {
   "cell_type": "code",
   "execution_count": null,
   "metadata": {},
   "outputs": [],
   "source": [
    "processed[\"prompt\"][0]"
   ]
  },
  {
   "cell_type": "code",
   "execution_count": null,
   "metadata": {},
   "outputs": [],
   "source": []
  }
 ],
 "metadata": {
  "kernelspec": {
   "display_name": "watermarks",
   "language": "python",
   "name": "python3"
  },
  "language_info": {
   "codemirror_mode": {
    "name": "ipython",
    "version": 3
   },
   "file_extension": ".py",
   "mimetype": "text/x-python",
   "name": "python",
   "nbconvert_exporter": "python",
   "pygments_lexer": "ipython3",
   "version": "3.11.4"
  },
  "orig_nbformat": 4
 },
 "nbformat": 4,
 "nbformat_minor": 2
}
