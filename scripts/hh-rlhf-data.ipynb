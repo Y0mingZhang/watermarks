{
 "cells": [
  {
   "cell_type": "markdown",
   "metadata": {},
   "source": [
    "# anthropic hh-rlhf dataset processing"
   ]
  },
  {
   "cell_type": "code",
   "execution_count": null,
   "metadata": {},
   "outputs": [],
   "source": [
    "from datasets import load_dataset\n",
    "import re, json\n",
    "from transformers import AutoTokenizer\n",
    "import pandas as pd"
   ]
  },
  {
   "cell_type": "code",
   "execution_count": null,
   "metadata": {},
   "outputs": [],
   "source": [
    "hhrlhf = load_dataset(\"Anthropic/hh-rlhf\")\n",
    "t = AutoTokenizer.from_pretrained(\"meta-llama/Llama-2-70b-chat-hf\")\n"
   ]
  },
  {
   "cell_type": "code",
   "execution_count": null,
   "metadata": {},
   "outputs": [],
   "source": [
    "dialogs = []\n",
    "fail_counter = 0\n",
    "for s in hhrlhf[\"test\"][\"chosen\"]:\n",
    "    fields = re.split(\"(Human:|Assistant:)\", s)\n",
    "    try:\n",
    "        dialog = []\n",
    "        assert fields[0].strip() == \"\"\n",
    "        assert all(ss.startswith(\"Human:\") for ss in fields[1::4])\n",
    "        assert all(ss.startswith(\"Assistant:\") for ss in fields[3::4])\n",
    "        for i in range(2, len(fields) - 1, 2):\n",
    "            dialog.append(\n",
    "                {\n",
    "                    \"role\": \"assistant\" if i % 4 == 0 else \"user\",\n",
    "                    \"content\": fields[i].strip(),\n",
    "                }\n",
    "            )\n",
    "        assert len(dialog) >= 1\n",
    "        assert dialog[-1][\"role\"] == \"user\"\n",
    "        dialog_raw = \" \".join([d[\"content\"] for d in dialog])\n",
    "        num_tokens = len(t(dialog_raw)[\"input_ids\"])\n",
    "        assert num_tokens <= 200\n",
    "        dialogs.append(dialog)\n",
    "    except:\n",
    "        fail_counter += 1\n"
   ]
  },
  {
   "cell_type": "code",
   "execution_count": null,
   "metadata": {},
   "outputs": [],
   "source": [
    "pd.DataFrame({\"prompt\": dialogs}).to_json(\"../data/rr-rlhf.jsonl\", lines=True, orient=\"records\")"
   ]
  }
 ],
 "metadata": {
  "kernelspec": {
   "display_name": "watermarks",
   "language": "python",
   "name": "python3"
  },
  "language_info": {
   "codemirror_mode": {
    "name": "ipython",
    "version": 3
   },
   "file_extension": ".py",
   "mimetype": "text/x-python",
   "name": "python",
   "nbconvert_exporter": "python",
   "pygments_lexer": "ipython3",
   "version": "3.11.4"
  },
  "orig_nbformat": 4
 },
 "nbformat": 4,
 "nbformat_minor": 2
}
